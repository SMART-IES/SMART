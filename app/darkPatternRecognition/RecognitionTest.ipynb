{
 "cells": [
  {
   "cell_type": "markdown",
   "metadata": {},
   "source": [
    "### simple Recognition : darkPattern or not "
   ]
  },
  {
   "cell_type": "code",
   "execution_count": 1,
   "metadata": {},
   "outputs": [],
   "source": [
    "from sklearn.feature_extraction.text import TfidfVectorizer\n",
    "from sklearn.naive_bayes import MultinomialNB\n",
    "from sklearn.pipeline import make_pipeline\n",
    "from sklearn.model_selection import train_test_split\n",
    "import pandas as pd\n",
    "from sklearn.metrics import accuracy_score\n",
    "from sklearn.ensemble import RandomForestClassifier\n",
    "from sklearn.preprocessing import LabelEncoder"
   ]
  },
  {
   "cell_type": "code",
   "execution_count": null,
   "metadata": {},
   "outputs": [],
   "source": [
    "data = pd.read_csv('dark_patterns.csv')\n",
    "data.dropna(subset=['Pattern String'], inplace=True)\n",
    "x = data['Pattern String']\n",
    "y = data['Deceptive?']\n",
    "\n",
    "X_train, X_test, y_train, y_test = train_test_split(x, y, test_size=0.2, random_state=42)"
   ]
  },
  {
   "cell_type": "code",
   "execution_count": null,
   "metadata": {},
   "outputs": [
    {
     "name": "stdout",
     "output_type": "stream",
     "text": [
      "Accuracy du modèle: 0.9174917491749175\n"
     ]
    }
   ],
   "source": [
    "modelNaiveBayes = make_pipeline(TfidfVectorizer(), MultinomialNB())\n",
    "\n",
    "modelNaiveBayes.fit(X_train, y_train)\n",
    "\n",
    "predictions = modelNaiveBayes.predict(X_test)\n",
    "\n",
    "accuracy = accuracy_score(y_test, predictions)\n",
    "print(\"Accuracy du modèle:\", accuracy)"
   ]
  },
  {
   "cell_type": "code",
   "execution_count": null,
   "metadata": {},
   "outputs": [],
   "source": [
    "modelRandomForest = make_pipeline(TfidfVectorizer(), RandomForestClassifier(n_estimators=1200, criterion=\"entropy\", max_features=None, random_state=42))\n",
    "\n",
    "modelRandomForest.fit(X_train, y_train)\n",
    "\n",
    "predictions = modelRandomForest.predict(X_test)\n",
    "\n",
    "accuracy = accuracy_score(y_test, predictions)\n",
    "print(\"Accuracy du modèle:\", accuracy)\n"
   ]
  },
  {
   "cell_type": "code",
   "execution_count": null,
   "metadata": {},
   "outputs": [
    {
     "data": {
      "text/plain": [
       "array(['Yes', 'No', 'No', 'No', 'No', 'No', 'No', 'No'], dtype=object)"
      ]
     },
     "metadata": {},
     "output_type": "display_data"
    }
   ],
   "source": [
    "# Tests (sentances taken from true websites )\n",
    "sentances = [\"Or fastest delivery Wednesday, April 17. Order within 8 hrs 30 mins\",\n",
    "             \"Limited time deal\",\n",
    "             \"Bundle List Price:\t$299.98 Details\",\n",
    "             \"Deal Price:\t$199.98\",\n",
    "             \"You Save:\t$100.00 (33%)\",\n",
    "             \"100% Polyester\",\n",
    "             \"REGULAR FIT: Comfortable, easy fit through the shoulders, chest, and waist\",\n",
    "             \"Standard $299.00/mo\"]\n",
    "modelRandomForest.predict(sentances)\n",
    "\n"
   ]
  },
  {
   "cell_type": "code",
   "execution_count": null,
   "metadata": {},
   "outputs": [],
   "source": [
    "data=pd.read_csv('dataset.tsv',sep='\\t')\n",
    "data.dropna(subset=['text'], inplace=True)\n",
    "x = data['text']\n",
    "y = data['label']\n",
    "\n",
    "X_train, X_test, y_train, y_test = train_test_split(x, y, test_size=0.2, random_state=42)\n"
   ]
  },
  {
   "cell_type": "code",
   "execution_count": null,
   "metadata": {},
   "outputs": [
    {
     "name": "stdout",
     "output_type": "stream",
     "text": [
      "Accuracy du modèle: 0.923728813559322\n"
     ]
    }
   ],
   "source": [
    "#(dataset)\n",
    "modelRandomForest = make_pipeline(TfidfVectorizer(), RandomForestClassifier(n_estimators=1200, criterion=\"entropy\", max_features=None, random_state=42))\n",
    "\n",
    "modelRandomForest.fit(X_train, y_train)\n",
    "\n",
    "predictions = modelRandomForest.predict(X_test)\n",
    "\n",
    "accuracy = accuracy_score(y_test, predictions)\n",
    "print(\"Accuracy du modèle:\", accuracy)\n"
   ]
  },
  {
   "cell_type": "code",
   "execution_count": null,
   "metadata": {},
   "outputs": [
    {
     "data": {
      "text/plain": [
       "array([1, 1, 0, 0, 1, 0, 0, 1], dtype=int64)"
      ]
     },
     "metadata": {},
     "output_type": "display_data"
    }
   ],
   "source": [
    "# Tests \n",
    "sentances = [\"Or fastest delivery Wednesday, April 17. Order within 8 hrs 30 mins\",\n",
    "             \"Limited time deal\",\n",
    "             \"Bundle List Price:\t$299.98 Details\",\n",
    "             \"Deal Price:\t$199.98\",\n",
    "             \"You Save:\t$100.00 (33%)\",\n",
    "             \"100% Polyester\",\n",
    "             \"REGULAR FIT: Comfortable, easy fit through the shoulders, chest, and waist\",\n",
    "             \"Standard $299.00/mo\"]\n",
    "modelRandomForest.predict(sentances)\n"
   ]
  },
  {
   "cell_type": "markdown",
   "metadata": {},
   "source": [
    "### Category Recognition"
   ]
  },
  {
   "cell_type": "code",
   "execution_count": 2,
   "metadata": {},
   "outputs": [],
   "source": [
    "data = pd.read_csv('dataset.tsv', sep='\\t')\n",
    "\n",
    "# Drop rows with missing values in 'text' and 'Pattern Category' columns\n",
    "data.dropna(subset=['text', 'Pattern Category'], inplace=True)\n",
    "\n",
    "# Split data into features (x), labels (y), and additional variable (z)\n",
    "x = data['text']\n",
    "z = data['Pattern Category']\n",
    "y = data['label']\n",
    "\n",
    "label_encoder = LabelEncoder()\n",
    "\n",
    "# Fit LabelEncoder on the combined set of string labels\n",
    "label_encoder.fit(z)\n",
    "\n",
    "# Transform string labels to numerical labels\n",
    "z_encoded = label_encoder.transform(z)\n",
    "# Split data into training and testing subsets\n",
    "\n",
    "X_train, X_test, y_train, y_test, z_train, z_test = train_test_split(x, y, z_encoded, test_size=0.2, random_state=42)"
   ]
  },
  {
   "cell_type": "code",
   "execution_count": 3,
   "metadata": {},
   "outputs": [
    {
     "name": "stdout",
     "output_type": "stream",
     "text": [
      "Accuracy du modèle: 0.902542372881356\n"
     ]
    }
   ],
   "source": [
    "#(dataset)\n",
    "modelRandomForest = make_pipeline(TfidfVectorizer(), RandomForestClassifier(n_estimators=50, criterion=\"entropy\", max_features=None, random_state=42))\n",
    "\n",
    "modelRandomForest.fit(X_train, z_train)\n",
    "\n",
    "predictions = modelRandomForest.predict(X_test)\n",
    "\n",
    "accuracy = accuracy_score(z_test, predictions)\n",
    "print(\"Accuracy du modèle:\", accuracy)"
   ]
  },
  {
   "cell_type": "code",
   "execution_count": 5,
   "metadata": {},
   "outputs": [
    {
     "name": "stdout",
     "output_type": "stream",
     "text": [
      "['Not Dark Pattern' 'Urgency' 'Not Dark Pattern' 'Not Dark Pattern'\n",
      " 'Misdirection' 'Not Dark Pattern' 'Not Dark Pattern' 'Urgency']\n"
     ]
    }
   ],
   "source": [
    "# Tests \n",
    "sentences = [\"Or fastest delivery Wednesday, April 17. Order within 8 hrs 30 mins\",\n",
    "             \"Limited time deal\",\n",
    "             \"Bundle List Price:\t$299.98 Details\",\n",
    "             \"Deal Price:\t$199.98\",\n",
    "             \"You Save:\t$100.00 (33%)\",\n",
    "             \"100% Polyester\",\n",
    "             \"REGULAR FIT: Comfortable, easy fit through the shoulders, chest, and waist\",\n",
    "             \"Standard $299.00/mo\"]\n",
    "category_vectorized = modelRandomForest.predict(sentences)\n",
    "category_decoded = label_encoder.inverse_transform(category_vectorized)\n",
    "print(category_decoded)\n"
   ]
  },
  {
   "cell_type": "markdown",
   "metadata": {},
   "source": [
    "### Test model francais "
   ]
  },
  {
   "cell_type": "code",
   "execution_count": 7,
   "metadata": {},
   "outputs": [],
   "source": [
    "data = pd.read_csv('datasetFrancais.tsv', sep='\\t')\n",
    "\n",
    "# Drop rows with missing values in 'text' and 'Pattern Category' columns\n",
    "data.dropna(subset=['text', 'Pattern Category'], inplace=True)\n",
    "\n",
    "# Split data into features (x), labels (y), and additional variable (z)\n",
    "x = data['text']\n",
    "z = data['Pattern Category']\n",
    "y = data['label']\n",
    "\n",
    "label_encoder = LabelEncoder()\n",
    "\n",
    "# Fit LabelEncoder on the combined set of string labels\n",
    "label_encoder.fit(z)\n",
    "\n",
    "# Transform string labels to numerical labels\n",
    "z_encoded = label_encoder.transform(z)\n",
    "# Split data into training and testing subsets\n",
    "\n",
    "X_train, X_test, y_train, y_test, z_train, z_test = train_test_split(x, y, z_encoded, test_size=0.2, random_state=42)"
   ]
  },
  {
   "cell_type": "code",
   "execution_count": 10,
   "metadata": {},
   "outputs": [
    {
     "name": "stdout",
     "output_type": "stream",
     "text": [
      "Accuracy du modèle: 0.7028985507246377\n"
     ]
    }
   ],
   "source": [
    "modelRandomForest = make_pipeline(TfidfVectorizer(), RandomForestClassifier(n_estimators=1000, criterion=\"entropy\", max_features=None, random_state=42))\n",
    "modelRandomForest.fit(X_train, z_train)\n",
    "predictions = modelRandomForest.predict(X_test)\n",
    "accuracy = accuracy_score(z_test, predictions)\n",
    "print(\"Accuracy du modèle:\", accuracy)"
   ]
  }
 ],
 "metadata": {
  "kernelspec": {
   "display_name": "Python 3",
   "language": "python",
   "name": "python3"
  },
  "language_info": {
   "codemirror_mode": {
    "name": "ipython",
    "version": 3
   },
   "file_extension": ".py",
   "mimetype": "text/x-python",
   "name": "python",
   "nbconvert_exporter": "python",
   "pygments_lexer": "ipython3",
   "version": "3.11.9"
  }
 },
 "nbformat": 4,
 "nbformat_minor": 2
}
