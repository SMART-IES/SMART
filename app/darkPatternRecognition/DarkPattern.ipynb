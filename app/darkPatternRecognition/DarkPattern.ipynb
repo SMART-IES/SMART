{
 "cells": [
  {
   "cell_type": "code",
   "execution_count": null,
   "metadata": {},
   "outputs": [],
   "source": [
    "from sklearn.feature_extraction.text import TfidfVectorizer\n",
    "from sklearn.naive_bayes import MultinomialNB\n",
    "from sklearn.pipeline import make_pipeline\n",
    "from sklearn.model_selection import train_test_split\n",
    "import pandas as pd\n",
    "from sklearn.metrics import accuracy_score\n",
    "from sklearn.ensemble import RandomForestClassifier\n"
   ]
  },
  {
   "cell_type": "code",
   "execution_count": null,
   "metadata": {},
   "outputs": [],
   "source": [
    "data = pd.read_csv('dark_patterns.csv')\n",
    "data.dropna(subset=['Pattern String'], inplace=True)\n",
    "x = data['Pattern String']\n",
    "y = data['Deceptive?']\n",
    "\n",
    "X_train, X_test, y_train, y_test = train_test_split(x, y, test_size=0.2, random_state=42)"
   ]
  },
  {
   "cell_type": "code",
   "execution_count": null,
   "metadata": {},
   "outputs": [
    {
     "name": "stdout",
     "output_type": "stream",
     "text": [
      "Accuracy du modèle: 0.9174917491749175\n"
     ]
    }
   ],
   "source": [
    "# chose a model, training, prediction and accuracy (dark_pattern.csv) \n",
    "modelNaiveBayes = make_pipeline(TfidfVectorizer(), MultinomialNB())\n",
    "\n",
    "modelNaiveBayes.fit(X_train, y_train)\n",
    "\n",
    "predictions = modelNaiveBayes.predict(X_test)\n",
    "\n",
    "accuracy = accuracy_score(y_test, predictions)\n",
    "print(\"Accuracy du modèle:\", accuracy)"
   ]
  },
  {
   "cell_type": "code",
   "execution_count": null,
   "metadata": {},
   "outputs": [],
   "source": [
    "# other model (dark_pattern.csv) \n",
    "modelRandomForest = make_pipeline(TfidfVectorizer(), RandomForestClassifier(n_estimators=1200, criterion=\"entropy\", max_features=None, random_state=42))\n",
    "\n",
    "modelRandomForest.fit(X_train, y_train)\n",
    "\n",
    "predictions = modelRandomForest.predict(X_test)\n",
    "\n",
    "accuracy = accuracy_score(y_test, predictions)\n",
    "print(\"Accuracy du modèle:\", accuracy)\n"
   ]
  },
  {
   "cell_type": "code",
   "execution_count": null,
   "metadata": {},
   "outputs": [
    {
     "data": {
      "text/plain": [
       "array(['Yes', 'No', 'No', 'No', 'No', 'No', 'No', 'No'], dtype=object)"
      ]
     },
     "metadata": {},
     "output_type": "display_data"
    }
   ],
   "source": [
    "# Tests (sentances taken from true websites )\n",
    "sentances = [\"Or fastest delivery Wednesday, April 17. Order within 8 hrs 30 mins\",\n",
    "             \"Limited time deal\",\n",
    "             \"Bundle List Price:\t$299.98 Details\",\n",
    "             \"Deal Price:\t$199.98\",\n",
    "             \"You Save:\t$100.00 (33%)\",\n",
    "             \"100% Polyester\",\n",
    "             \"REGULAR FIT: Comfortable, easy fit through the shoulders, chest, and waist\",\n",
    "             \"Standard $299.00/mo\"]\n",
    "modelRandomForest.predict(sentances)\n",
    "\n"
   ]
  },
  {
   "cell_type": "code",
   "execution_count": null,
   "metadata": {},
   "outputs": [],
   "source": [
    "data=pd.read_csv('dataset.tsv',sep='\\t')\n",
    "data.dropna(subset=['text'], inplace=True)\n",
    "x = data['text']\n",
    "y = data['label']\n",
    "\n",
    "X_train, X_test, y_train, y_test = train_test_split(x, y, test_size=0.2, random_state=42)\n"
   ]
  },
  {
   "cell_type": "code",
   "execution_count": null,
   "metadata": {},
   "outputs": [
    {
     "name": "stdout",
     "output_type": "stream",
     "text": [
      "Accuracy du modèle: 0.923728813559322\n"
     ]
    }
   ],
   "source": [
    "#(dataset)\n",
    "modelRandomForest = make_pipeline(TfidfVectorizer(), RandomForestClassifier(n_estimators=1200, criterion=\"entropy\", max_features=None, random_state=42))\n",
    "\n",
    "modelRandomForest.fit(X_train, y_train)\n",
    "\n",
    "predictions = modelRandomForest.predict(X_test)\n",
    "\n",
    "accuracy = accuracy_score(y_test, predictions)\n",
    "print(\"Accuracy du modèle:\", accuracy)\n"
   ]
  },
  {
   "cell_type": "code",
   "execution_count": null,
   "metadata": {},
   "outputs": [
    {
     "data": {
      "text/plain": [
       "array([1, 1, 0, 0, 1, 0, 0, 1], dtype=int64)"
      ]
     },
     "metadata": {},
     "output_type": "display_data"
    }
   ],
   "source": [
    "# Tests \n",
    "sentances = [\"Or fastest delivery Wednesday, April 17. Order within 8 hrs 30 mins\",\n",
    "             \"Limited time deal\",\n",
    "             \"Bundle List Price:\t$299.98 Details\",\n",
    "             \"Deal Price:\t$199.98\",\n",
    "             \"You Save:\t$100.00 (33%)\",\n",
    "             \"100% Polyester\",\n",
    "             \"REGULAR FIT: Comfortable, easy fit through the shoulders, chest, and waist\",\n",
    "             \"Standard $299.00/mo\"]\n",
    "modelRandomForest.predict(sentances)\n"
   ]
  }
 ],
 "metadata": {
  "kernelspec": {
   "display_name": "Python 3",
   "language": "python",
   "name": "python3"
  },
  "language_info": {
   "codemirror_mode": {
    "name": "ipython",
    "version": 3
   },
   "file_extension": ".py",
   "mimetype": "text/x-python",
   "name": "python",
   "nbconvert_exporter": "python",
   "pygments_lexer": "ipython3",
   "version": "3.11.9"
  }
 },
 "nbformat": 4,
 "nbformat_minor": 2
}
