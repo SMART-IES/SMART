{
 "cells": [
  {
   "cell_type": "code",
   "execution_count": 1,
   "metadata": {},
   "outputs": [],
   "source": [
    "from sklearn.feature_extraction.text import TfidfVectorizer\n",
    "from sklearn.naive_bayes import MultinomialNB\n",
    "from sklearn.pipeline import make_pipeline\n",
    "from sklearn.model_selection import train_test_split\n",
    "import pandas as pd\n",
    "from sklearn.metrics import accuracy_score\n",
    "from sklearn.ensemble import RandomForestClassifier\n",
    "from sklearn.preprocessing import LabelEncoder\n"
   ]
  },
  {
   "cell_type": "code",
   "execution_count": 7,
   "metadata": {},
   "outputs": [],
   "source": [
    "data = pd.read_csv('dataset.tsv', sep='\\t')\n",
    "\n",
    "# Drop rows with missing values in 'text' and 'Pattern Category' columns\n",
    "data.dropna(subset=['text', 'Pattern Category'], inplace=True)\n",
    "\n",
    "# Split data into features (x), labels (y), and additional variable (z)\n",
    "x = data['text']\n",
    "z = data['Pattern Category']\n",
    "y = data['label']\n",
    "\n",
    "label_encoder = LabelEncoder()\n",
    "\n",
    "# Fit LabelEncoder on the combined set of string labels\n",
    "label_encoder.fit(z)\n",
    "\n",
    "# Transform string labels to numerical labels\n",
    "z_encoded = label_encoder.transform(z)\n",
    "# Split data into training and testing subsets\n",
    "\n",
    "X_train, X_test, y_train, y_test, z_train, z_test = train_test_split(x, y, z_encoded, test_size=0.2, random_state=42)\n",
    "\n"
   ]
  },
  {
   "cell_type": "code",
   "execution_count": 8,
   "metadata": {},
   "outputs": [
    {
     "name": "stdout",
     "output_type": "stream",
     "text": [
      "Accuracy du modèle: 0.902542372881356\n"
     ]
    }
   ],
   "source": [
    "#(dataset)\n",
    "modelRandomForest = make_pipeline(TfidfVectorizer(), RandomForestClassifier(n_estimators=50, criterion=\"entropy\", max_features=None, random_state=42))\n",
    "\n",
    "modelRandomForest.fit(X_train, z_train)\n",
    "\n",
    "predictions = modelRandomForest.predict(X_test)\n",
    "\n",
    "accuracy = accuracy_score(z_test, predictions)\n",
    "print(\"Accuracy du modèle:\", accuracy)"
   ]
  },
  {
   "cell_type": "code",
   "execution_count": 12,
   "metadata": {},
   "outputs": [
    {
     "name": "stdout",
     "output_type": "stream",
     "text": [
      "['Not Dark Pattern' 'Urgency' 'Not Dark Pattern' 'Not Dark Pattern'\n",
      " 'Misdirection' 'Not Dark Pattern' 'Not Dark Pattern' 'Urgency']\n"
     ]
    }
   ],
   "source": [
    "# Tests \n",
    "sentences = [\"Or fastest delivery Wednesday, April 17. Order within 8 hrs 30 mins\",\n",
    "             \"Limited time deal\",\n",
    "             \"Bundle List Price:\t$299.98 Details\",\n",
    "             \"Deal Price:\t$199.98\",\n",
    "             \"You Save:\t$100.00 (33%)\",\n",
    "             \"100% Polyester\",\n",
    "             \"REGULAR FIT: Comfortable, easy fit through the shoulders, chest, and waist\",\n",
    "             \"Standard $299.00/mo\"]\n",
    "category_vectorized = modelRandomForest.predict(sentences)\n",
    "category_decoded = label_encoder.inverse_transform(z)\n",
    "print(category_decoded)\n"
   ]
  }
 ],
 "metadata": {
  "kernelspec": {
   "display_name": "Python 3",
   "language": "python",
   "name": "python3"
  },
  "language_info": {
   "codemirror_mode": {
    "name": "ipython",
    "version": 3
   },
   "file_extension": ".py",
   "mimetype": "text/x-python",
   "name": "python",
   "nbconvert_exporter": "python",
   "pygments_lexer": "ipython3",
   "version": "3.12.0"
  }
 },
 "nbformat": 4,
 "nbformat_minor": 2
}
